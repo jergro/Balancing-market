{
 "metadata": {
  "language_info": {
   "codemirror_mode": {
    "name": "ipython",
    "version": 3
   },
   "file_extension": ".py",
   "mimetype": "text/x-python",
   "name": "python",
   "nbconvert_exporter": "python",
   "pygments_lexer": "ipython3",
   "version": "3.8.6-final"
  },
  "orig_nbformat": 2,
  "kernelspec": {
   "name": "python3",
   "display_name": "Python 3",
   "language": "python"
  }
 },
 "nbformat": 4,
 "nbformat_minor": 2,
 "cells": [
  {
   "cell_type": "code",
   "execution_count": 7,
   "metadata": {},
   "outputs": [],
   "source": [
    "import os\n",
    "import pandas as pd\n",
    "import requests\n",
    "from datetime import datetime, date\n",
    "\n",
    "from elexon import ElexonPandasClient"
   ]
  },
  {
   "cell_type": "code",
   "execution_count": 8,
   "metadata": {},
   "outputs": [],
   "source": [
    "API_KEY = ''\n",
    "api = ElexonPandasClient(API_KEY)"
   ]
  },
  {
   "cell_type": "code",
   "execution_count": 9,
   "metadata": {},
   "outputs": [
    {
     "output_type": "stream",
     "name": "stdout",
     "text": [
      "as\n"
     ]
    },
    {
     "output_type": "error",
     "ename": "Exception",
     "evalue": "Error 403 (forbidden): An invalid API key has been passed",
     "traceback": [
      "\u001b[1;31m---------------------------------------------------------------------------\u001b[0m",
      "\u001b[1;31mException\u001b[0m                                 Traceback (most recent call last)",
      "\u001b[1;32m<ipython-input-9-941cec0a6d16>\u001b[0m in \u001b[0;36m<module>\u001b[1;34m\u001b[0m\n\u001b[1;32m----> 1\u001b[1;33m \u001b[0mdf\u001b[0m \u001b[1;33m=\u001b[0m \u001b[0mapi\u001b[0m\u001b[1;33m.\u001b[0m\u001b[0mLegacy\u001b[0m\u001b[1;33m.\u001b[0m\u001b[0mLOLPDRM\u001b[0m\u001b[1;33m(\u001b[0m\u001b[0mFromSettlementDate\u001b[0m\u001b[1;33m=\u001b[0m\u001b[1;34m'2020-01-01'\u001b[0m\u001b[1;33m,\u001b[0m \u001b[0mToSettlementDate\u001b[0m\u001b[1;33m=\u001b[0m\u001b[1;34m'2020-04-01'\u001b[0m\u001b[1;33m)\u001b[0m\u001b[1;33m\u001b[0m\u001b[1;33m\u001b[0m\u001b[0m\n\u001b[0m",
      "\u001b[1;32mc:\\Users\\Jeremi\\Documents\\Exjobb\\Code\\elexon\\elexon.py\u001b[0m in \u001b[0;36melexon_method\u001b[1;34m(self, *args, **kwargs)\u001b[0m\n\u001b[0;32m     52\u001b[0m                     name, klass, options, params[name])\n\u001b[0;32m     53\u001b[0m \u001b[1;33m\u001b[0m\u001b[0m\n\u001b[1;32m---> 54\u001b[1;33m         \u001b[1;32mreturn\u001b[0m \u001b[0mself\u001b[0m\u001b[1;33m(\u001b[0m\u001b[0mmethod_name\u001b[0m\u001b[1;33m,\u001b[0m \u001b[0mparams\u001b[0m\u001b[1;33m)\u001b[0m\u001b[1;33m\u001b[0m\u001b[1;33m\u001b[0m\u001b[0m\n\u001b[0m\u001b[0;32m     55\u001b[0m \u001b[1;33m\u001b[0m\u001b[0m\n\u001b[0;32m     56\u001b[0m     \u001b[0melexon_method\u001b[0m\u001b[1;33m.\u001b[0m\u001b[0m__name__\u001b[0m \u001b[1;33m=\u001b[0m \u001b[0mmethod_name\u001b[0m\u001b[1;33m\u001b[0m\u001b[1;33m\u001b[0m\u001b[0m\n",
      "\u001b[1;32mc:\\Users\\Jeremi\\Documents\\Exjobb\\Code\\elexon\\elexon.py\u001b[0m in \u001b[0;36m__call__\u001b[1;34m(self, method, args)\u001b[0m\n\u001b[0;32m     72\u001b[0m             \u001b[1;32mreturn\u001b[0m \u001b[0mself\u001b[0m\u001b[1;33m\u001b[0m\u001b[1;33m\u001b[0m\u001b[0m\n\u001b[0;32m     73\u001b[0m \u001b[1;33m\u001b[0m\u001b[0m\n\u001b[1;32m---> 74\u001b[1;33m         \u001b[1;32mreturn\u001b[0m \u001b[0mself\u001b[0m\u001b[1;33m.\u001b[0m\u001b[0m_client\u001b[0m\u001b[1;33m(\u001b[0m\u001b[0mmethod\u001b[0m\u001b[1;33m,\u001b[0m \u001b[0margs\u001b[0m\u001b[1;33m)\u001b[0m\u001b[1;33m\u001b[0m\u001b[1;33m\u001b[0m\u001b[0m\n\u001b[0m\u001b[0;32m     75\u001b[0m \u001b[1;33m\u001b[0m\u001b[0m\n\u001b[0;32m     76\u001b[0m \u001b[1;33m\u001b[0m\u001b[0m\n",
      "\u001b[1;32mc:\\Users\\Jeremi\\Documents\\Exjobb\\Code\\elexon\\elexon.py\u001b[0m in \u001b[0;36mmonth_wrapper\u001b[1;34m(_, report_name, args)\u001b[0m\n\u001b[0;32m    209\u001b[0m                 }\n\u001b[0;32m    210\u001b[0m \u001b[1;33m\u001b[0m\u001b[0m\n\u001b[1;32m--> 211\u001b[1;33m                 \u001b[0mframe\u001b[0m \u001b[1;33m=\u001b[0m \u001b[0mfunc\u001b[0m\u001b[1;33m(\u001b[0m\u001b[0m_\u001b[0m\u001b[1;33m,\u001b[0m \u001b[0mreport_name\u001b[0m\u001b[1;33m,\u001b[0m \u001b[0m_temp_args\u001b[0m\u001b[1;33m)\u001b[0m\u001b[1;33m\u001b[0m\u001b[1;33m\u001b[0m\u001b[0m\n\u001b[0m\u001b[0;32m    212\u001b[0m             \u001b[1;32mexcept\u001b[0m \u001b[0mNoMatchingDataError\u001b[0m\u001b[1;33m:\u001b[0m\u001b[1;33m\u001b[0m\u001b[1;33m\u001b[0m\u001b[0m\n\u001b[0;32m    213\u001b[0m                 \u001b[0mlogging\u001b[0m\u001b[1;33m.\u001b[0m\u001b[0mdebug\u001b[0m\u001b[1;33m(\u001b[0m\u001b[1;34mf\"NoMatchingDataError: between {_start} and {_end}\"\u001b[0m\u001b[1;33m)\u001b[0m\u001b[1;33m\u001b[0m\u001b[1;33m\u001b[0m\u001b[0m\n",
      "\u001b[1;32mc:\\Users\\Jeremi\\Documents\\Exjobb\\Code\\elexon\\elexon.py\u001b[0m in \u001b[0;36m__call__\u001b[1;34m(self, report_name, args)\u001b[0m\n\u001b[0;32m    236\u001b[0m \u001b[1;33m\u001b[0m\u001b[0m\n\u001b[0;32m    237\u001b[0m         \u001b[0mresponse\u001b[0m \u001b[1;33m=\u001b[0m \u001b[0mself\u001b[0m\u001b[1;33m.\u001b[0m\u001b[0mbase_request\u001b[0m\u001b[1;33m(\u001b[0m\u001b[0mreport_name\u001b[0m\u001b[1;33m,\u001b[0m \u001b[0margs\u001b[0m\u001b[1;33m)\u001b[0m\u001b[1;33m\u001b[0m\u001b[1;33m\u001b[0m\u001b[0m\n\u001b[1;32m--> 238\u001b[1;33m         \u001b[0mparsed_response\u001b[0m \u001b[1;33m=\u001b[0m \u001b[0mself\u001b[0m\u001b[1;33m.\u001b[0m\u001b[0m_parse_response\u001b[0m\u001b[1;33m(\u001b[0m\u001b[0mresponse\u001b[0m\u001b[1;33m,\u001b[0m \u001b[0mreport_name\u001b[0m\u001b[1;33m)\u001b[0m\u001b[1;33m\u001b[0m\u001b[1;33m\u001b[0m\u001b[0m\n\u001b[0m\u001b[0;32m    239\u001b[0m         \u001b[1;32mreturn\u001b[0m \u001b[0mpd\u001b[0m\u001b[1;33m.\u001b[0m\u001b[0mDataFrame\u001b[0m\u001b[1;33m(\u001b[0m\u001b[0mparsed_response\u001b[0m\u001b[1;33m)\u001b[0m\u001b[1;33m\u001b[0m\u001b[1;33m\u001b[0m\u001b[0m\n\u001b[0;32m    240\u001b[0m \u001b[1;33m\u001b[0m\u001b[0m\n",
      "\u001b[1;32mc:\\Users\\Jeremi\\Documents\\Exjobb\\Code\\elexon\\elexon.py\u001b[0m in \u001b[0;36m_parse_response\u001b[1;34m(self, response, report_name)\u001b[0m\n\u001b[0;32m    166\u001b[0m             \u001b[0mr_body\u001b[0m \u001b[1;33m=\u001b[0m \u001b[0mroot\u001b[0m\u001b[1;33m.\u001b[0m\u001b[0mfind\u001b[0m\u001b[1;33m(\u001b[0m\u001b[1;34m'./responseBody'\u001b[0m\u001b[1;33m)\u001b[0m\u001b[1;33m\u001b[0m\u001b[1;33m\u001b[0m\u001b[0m\n\u001b[0;32m    167\u001b[0m \u001b[1;33m\u001b[0m\u001b[0m\n\u001b[1;32m--> 168\u001b[1;33m             \u001b[0mself\u001b[0m\u001b[1;33m.\u001b[0m\u001b[0m_check_error\u001b[0m\u001b[1;33m(\u001b[0m\u001b[0mr_metadata\u001b[0m\u001b[1;33m)\u001b[0m\u001b[1;33m\u001b[0m\u001b[1;33m\u001b[0m\u001b[0m\n\u001b[0m\u001b[0;32m    169\u001b[0m \u001b[1;33m\u001b[0m\u001b[0m\n\u001b[0;32m    170\u001b[0m             \u001b[0mparsed_list\u001b[0m \u001b[1;33m=\u001b[0m \u001b[1;33m[\u001b[0m\u001b[1;33m]\u001b[0m\u001b[1;33m\u001b[0m\u001b[1;33m\u001b[0m\u001b[0m\n",
      "\u001b[1;32mc:\\Users\\Jeremi\\Documents\\Exjobb\\Code\\elexon\\elexon.py\u001b[0m in \u001b[0;36m_check_error\u001b[1;34m(self, metadata)\u001b[0m\n\u001b[0;32m    186\u001b[0m         \u001b[0mr_description\u001b[0m \u001b[1;33m=\u001b[0m \u001b[0mmetadata\u001b[0m\u001b[1;33m.\u001b[0m\u001b[0mfind\u001b[0m\u001b[1;33m(\u001b[0m\u001b[1;34m'description'\u001b[0m\u001b[1;33m)\u001b[0m\u001b[1;33m.\u001b[0m\u001b[0mtext\u001b[0m\u001b[1;33m\u001b[0m\u001b[1;33m\u001b[0m\u001b[0m\n\u001b[0;32m    187\u001b[0m         \u001b[1;32mif\u001b[0m \u001b[0mr_httpCode\u001b[0m \u001b[1;33m!=\u001b[0m \u001b[1;34m'200'\u001b[0m\u001b[1;33m:\u001b[0m\u001b[1;33m\u001b[0m\u001b[1;33m\u001b[0m\u001b[0m\n\u001b[1;32m--> 188\u001b[1;33m             \u001b[1;32mraise\u001b[0m \u001b[0mException\u001b[0m\u001b[1;33m(\u001b[0m\u001b[1;34m'Error {} ({}): {}'\u001b[0m\u001b[1;33m.\u001b[0m\u001b[0mformat\u001b[0m\u001b[1;33m(\u001b[0m\u001b[0mr_httpCode\u001b[0m\u001b[1;33m,\u001b[0m \u001b[0mr_errorType\u001b[0m\u001b[1;33m,\u001b[0m \u001b[0mr_description\u001b[0m\u001b[1;33m)\u001b[0m\u001b[1;33m)\u001b[0m\u001b[1;33m\u001b[0m\u001b[1;33m\u001b[0m\u001b[0m\n\u001b[0m\u001b[0;32m    189\u001b[0m \u001b[1;33m\u001b[0m\u001b[0m\n\u001b[0;32m    190\u001b[0m \u001b[1;33m\u001b[0m\u001b[0m\n",
      "\u001b[1;31mException\u001b[0m: Error 403 (forbidden): An invalid API key has been passed"
     ]
    }
   ],
   "source": [
    "df = api.Legacy.LOLPDRM(FromSettlementDate='2020-01-01', ToSettlementDate='2020-04-01')"
   ]
  },
  {
   "cell_type": "code",
   "execution_count": 6,
   "metadata": {},
   "outputs": [
    {
     "output_type": "execute_result",
     "data": {
      "text/plain": [
       "     recordType settlementDate  settlementPeriod  lolp12Forecast  \\\n",
       "0       LOLPDRM     2020-01-01                 1             0.0   \n",
       "1       LOLPDRM     2020-01-01                 2             0.0   \n",
       "2       LOLPDRM     2020-01-01                 3             0.0   \n",
       "3       LOLPDRM     2020-01-01                 4             0.0   \n",
       "4       LOLPDRM     2020-01-01                 5             0.0   \n",
       "...         ...            ...               ...             ...   \n",
       "1529    LOLPDRM     2020-04-01                44             0.0   \n",
       "1530    LOLPDRM     2020-04-01                45             0.0   \n",
       "1531    LOLPDRM     2020-04-01                46             0.0   \n",
       "1532    LOLPDRM     2020-04-01                47             0.0   \n",
       "1533    LOLPDRM     2020-04-01                48             0.0   \n",
       "\n",
       "      drm12Forecast  lolp8HourForecast  drm8HourForecast  lolp4HourForecast  \\\n",
       "0         21068.143                0.0        21970.4400                0.0   \n",
       "1         20001.715                0.0        20800.9220                0.0   \n",
       "2         19334.020                0.0        20283.2600                0.0   \n",
       "3         20232.066                0.0        21514.6300                0.0   \n",
       "4         20566.838                0.0        21969.8870                0.0   \n",
       "...             ...                ...               ...                ...   \n",
       "1529      12237.834                0.0        11852.5250                0.0   \n",
       "1530      14240.502                0.0        14387.6770                0.0   \n",
       "1531      15838.730                0.0        15880.4795                0.0   \n",
       "1532      14814.525                0.0        17535.4790                0.0   \n",
       "1533      17056.168                0.0        18726.4450                0.0   \n",
       "\n",
       "      drm4HourForecast  lolp2HourForecast  drm2HourForecast  \\\n",
       "0            20734.611                0.0         20304.742   \n",
       "1            19528.154                0.0         19514.807   \n",
       "2            19017.790                0.0         19026.064   \n",
       "3            19880.570                0.0         19876.932   \n",
       "4            20494.850                0.0         20500.773   \n",
       "...                ...                ...               ...   \n",
       "1529         12417.231                0.0         12435.744   \n",
       "1530         14016.499                0.0         14060.445   \n",
       "1531         15686.995                0.0         15164.693   \n",
       "1532         17882.360                0.0         16240.450   \n",
       "1533         19301.021                0.0         17646.113   \n",
       "\n",
       "      lolp1HourForecast  drm1HourForecast  activeFlag  \n",
       "0                   0.0         20305.713        True  \n",
       "1                   0.0         19515.766        True  \n",
       "2                   0.0         19031.060        True  \n",
       "3                   0.0         19879.938        True  \n",
       "4                   0.0         20500.773        True  \n",
       "...                 ...               ...         ...  \n",
       "1529                0.0         12375.478        True  \n",
       "1530                0.0         13333.848        True  \n",
       "1531                0.0         14523.113        True  \n",
       "1532                0.0         15937.379        True  \n",
       "1533                0.0         17820.406        True  \n",
       "\n",
       "[4510 rows x 14 columns]"
      ],
      "text/html": "<div>\n<style scoped>\n    .dataframe tbody tr th:only-of-type {\n        vertical-align: middle;\n    }\n\n    .dataframe tbody tr th {\n        vertical-align: top;\n    }\n\n    .dataframe thead th {\n        text-align: right;\n    }\n</style>\n<table border=\"1\" class=\"dataframe\">\n  <thead>\n    <tr style=\"text-align: right;\">\n      <th></th>\n      <th>recordType</th>\n      <th>settlementDate</th>\n      <th>settlementPeriod</th>\n      <th>lolp12Forecast</th>\n      <th>drm12Forecast</th>\n      <th>lolp8HourForecast</th>\n      <th>drm8HourForecast</th>\n      <th>lolp4HourForecast</th>\n      <th>drm4HourForecast</th>\n      <th>lolp2HourForecast</th>\n      <th>drm2HourForecast</th>\n      <th>lolp1HourForecast</th>\n      <th>drm1HourForecast</th>\n      <th>activeFlag</th>\n    </tr>\n  </thead>\n  <tbody>\n    <tr>\n      <th>0</th>\n      <td>LOLPDRM</td>\n      <td>2020-01-01</td>\n      <td>1</td>\n      <td>0.0</td>\n      <td>21068.143</td>\n      <td>0.0</td>\n      <td>21970.4400</td>\n      <td>0.0</td>\n      <td>20734.611</td>\n      <td>0.0</td>\n      <td>20304.742</td>\n      <td>0.0</td>\n      <td>20305.713</td>\n      <td>True</td>\n    </tr>\n    <tr>\n      <th>1</th>\n      <td>LOLPDRM</td>\n      <td>2020-01-01</td>\n      <td>2</td>\n      <td>0.0</td>\n      <td>20001.715</td>\n      <td>0.0</td>\n      <td>20800.9220</td>\n      <td>0.0</td>\n      <td>19528.154</td>\n      <td>0.0</td>\n      <td>19514.807</td>\n      <td>0.0</td>\n      <td>19515.766</td>\n      <td>True</td>\n    </tr>\n    <tr>\n      <th>2</th>\n      <td>LOLPDRM</td>\n      <td>2020-01-01</td>\n      <td>3</td>\n      <td>0.0</td>\n      <td>19334.020</td>\n      <td>0.0</td>\n      <td>20283.2600</td>\n      <td>0.0</td>\n      <td>19017.790</td>\n      <td>0.0</td>\n      <td>19026.064</td>\n      <td>0.0</td>\n      <td>19031.060</td>\n      <td>True</td>\n    </tr>\n    <tr>\n      <th>3</th>\n      <td>LOLPDRM</td>\n      <td>2020-01-01</td>\n      <td>4</td>\n      <td>0.0</td>\n      <td>20232.066</td>\n      <td>0.0</td>\n      <td>21514.6300</td>\n      <td>0.0</td>\n      <td>19880.570</td>\n      <td>0.0</td>\n      <td>19876.932</td>\n      <td>0.0</td>\n      <td>19879.938</td>\n      <td>True</td>\n    </tr>\n    <tr>\n      <th>4</th>\n      <td>LOLPDRM</td>\n      <td>2020-01-01</td>\n      <td>5</td>\n      <td>0.0</td>\n      <td>20566.838</td>\n      <td>0.0</td>\n      <td>21969.8870</td>\n      <td>0.0</td>\n      <td>20494.850</td>\n      <td>0.0</td>\n      <td>20500.773</td>\n      <td>0.0</td>\n      <td>20500.773</td>\n      <td>True</td>\n    </tr>\n    <tr>\n      <th>...</th>\n      <td>...</td>\n      <td>...</td>\n      <td>...</td>\n      <td>...</td>\n      <td>...</td>\n      <td>...</td>\n      <td>...</td>\n      <td>...</td>\n      <td>...</td>\n      <td>...</td>\n      <td>...</td>\n      <td>...</td>\n      <td>...</td>\n      <td>...</td>\n    </tr>\n    <tr>\n      <th>1529</th>\n      <td>LOLPDRM</td>\n      <td>2020-04-01</td>\n      <td>44</td>\n      <td>0.0</td>\n      <td>12237.834</td>\n      <td>0.0</td>\n      <td>11852.5250</td>\n      <td>0.0</td>\n      <td>12417.231</td>\n      <td>0.0</td>\n      <td>12435.744</td>\n      <td>0.0</td>\n      <td>12375.478</td>\n      <td>True</td>\n    </tr>\n    <tr>\n      <th>1530</th>\n      <td>LOLPDRM</td>\n      <td>2020-04-01</td>\n      <td>45</td>\n      <td>0.0</td>\n      <td>14240.502</td>\n      <td>0.0</td>\n      <td>14387.6770</td>\n      <td>0.0</td>\n      <td>14016.499</td>\n      <td>0.0</td>\n      <td>14060.445</td>\n      <td>0.0</td>\n      <td>13333.848</td>\n      <td>True</td>\n    </tr>\n    <tr>\n      <th>1531</th>\n      <td>LOLPDRM</td>\n      <td>2020-04-01</td>\n      <td>46</td>\n      <td>0.0</td>\n      <td>15838.730</td>\n      <td>0.0</td>\n      <td>15880.4795</td>\n      <td>0.0</td>\n      <td>15686.995</td>\n      <td>0.0</td>\n      <td>15164.693</td>\n      <td>0.0</td>\n      <td>14523.113</td>\n      <td>True</td>\n    </tr>\n    <tr>\n      <th>1532</th>\n      <td>LOLPDRM</td>\n      <td>2020-04-01</td>\n      <td>47</td>\n      <td>0.0</td>\n      <td>14814.525</td>\n      <td>0.0</td>\n      <td>17535.4790</td>\n      <td>0.0</td>\n      <td>17882.360</td>\n      <td>0.0</td>\n      <td>16240.450</td>\n      <td>0.0</td>\n      <td>15937.379</td>\n      <td>True</td>\n    </tr>\n    <tr>\n      <th>1533</th>\n      <td>LOLPDRM</td>\n      <td>2020-04-01</td>\n      <td>48</td>\n      <td>0.0</td>\n      <td>17056.168</td>\n      <td>0.0</td>\n      <td>18726.4450</td>\n      <td>0.0</td>\n      <td>19301.021</td>\n      <td>0.0</td>\n      <td>17646.113</td>\n      <td>0.0</td>\n      <td>17820.406</td>\n      <td>True</td>\n    </tr>\n  </tbody>\n</table>\n<p>4510 rows × 14 columns</p>\n</div>"
     },
     "metadata": {},
     "execution_count": 6
    }
   ],
   "source": [
    "df"
   ]
  },
  {
   "cell_type": "code",
   "execution_count": null,
   "metadata": {},
   "outputs": [],
   "source": []
  }
 ]
}